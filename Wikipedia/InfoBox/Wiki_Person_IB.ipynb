{
 "cells": [
  {
   "cell_type": "code",
   "execution_count": 87,
   "id": "3ab911cf-addd-4b2d-86e4-6ec04da02179",
   "metadata": {},
   "outputs": [],
   "source": [
    "import argparse\n",
    "import pywikibot\n",
    "import mwparserfromhell as mwp\n",
    "import csv\n",
    "import json\n",
    "from pathlib import Path\n",
    "\n",
    "#!pip install pywikibot  \n",
    "#!pip install mwparserfromhell"
   ]
  },
  {
   "cell_type": "code",
   "execution_count": 88,
   "id": "09b1f38a-80ed-4b57-8c78-0bca5d5af5e4",
   "metadata": {},
   "outputs": [],
   "source": [
    "BASE = Path('C:\\LEARNING\\MISC\\Wikipedia')\n",
    "\n",
    "nl = '\\n'\n",
    "s = \" \"\n",
    "p = '| '\n",
    "espc = ' = '\n",
    "c = ' ،'\n",
    "ds = \"۔ \"\n",
    "btag = \"'''\"\n",
    "NA = 'غیرموجود'\n",
    "ls = \"* \"\n",
    "title = ''\n",
    "d = {}"
   ]
  },
  {
   "cell_type": "code",
   "execution_count": 89,
   "id": "7c0a6c78-5ba9-4b2a-8b05-56374c4691ef",
   "metadata": {},
   "outputs": [],
   "source": [
    "def enURTransliterate():\n",
    "    csvfile = BASE / 'EN_UR_CRIC.csv'\n",
    "\n",
    "    with open(csvfile, encoding='utf-8') as cfile:\n",
    "        csv_reader = csv.reader(cfile)\n",
    "        for row in csv_reader:\n",
    "            d[row[0]] = row[1]\n",
    "\n",
    "    return d"
   ]
  },
  {
   "cell_type": "code",
   "execution_count": 90,
   "id": "d33fb869-68b8-4951-8b6c-f7a4498341d5",
   "metadata": {},
   "outputs": [],
   "source": [
    "def inFileReader():\n",
    "    csvfile = BASE / 'women_actress.csv'\n",
    "    lstPlayers = []\n",
    "    with open(csvfile, encoding='utf-8') as cfile:\n",
    "        dcsv_reader = csv.DictReader(cfile, delimiter='|')\n",
    "\n",
    "        # get column names ENG:URDU\n",
    "        col = dcsv_reader.fieldnames\n",
    "\n",
    "        for row in dcsv_reader:\n",
    "            lstPlayers.append(row)\n",
    "\n",
    "    return lstPlayers"
   ]
  },
  {
   "cell_type": "code",
   "execution_count": 91,
   "id": "bb220191-9557-44a6-8cb2-d80addad86c2",
   "metadata": {},
   "outputs": [],
   "source": [
    "def getWikiPage(lang, title):\n",
    "    site = pywikibot.Site(lang, 'wikipedia')\n",
    "    page = pywikibot.Page(site, title)\n",
    "\n",
    "    return page"
   ]
  },
  {
   "cell_type": "code",
   "execution_count": 92,
   "id": "4c4637ba-1376-46e2-937e-c4f889909526",
   "metadata": {},
   "outputs": [],
   "source": [
    "def get_intro(info,title):\n",
    "    introLine = \"\"\n",
    "    birthName = info.get('birth_name','NA')\n",
    "    if birthName:\n",
    "        introLine = title + birthName + s\n",
    "    \n",
    "    return introLine"
   ]
  },
  {
   "cell_type": "code",
   "execution_count": 93,
   "id": "0210d272-ff66-4f2d-bb9f-228d9a7730ec",
   "metadata": {},
   "outputs": [],
   "source": [
    "def templateFiltering(wikicode):\n",
    "    templateDict = {}\n",
    "    for tmplt in wikicode.filter_templates():\n",
    "        if tmplt.name.matches(\"Infobox person\"):\n",
    "            InfoBox = tmplt\n",
    "            templateDict['InfoBox'] = InfoBox\n",
    "        elif tmplt.name.matches('birth date'):\n",
    "            bdTemplate = tmplt\n",
    "            templateDict['birth date'] = tmplt\n",
    "        elif tmplt.name.matches('spouse'):\n",
    "            spouseTemplate = tmplt\n",
    "            templateDict['spouse'] = tmplt\n",
    "        elif tmplt.name.matches('occupation'):\n",
    "            occupationTemplate = tmplt\n",
    "            templateDict['occupation'] = tmplt     \n",
    "\n",
    "    return templateDict"
   ]
  },
  {
   "cell_type": "code",
   "execution_count": 94,
   "id": "ed8c5555-06ee-4819-b23a-6af7003725ef",
   "metadata": {},
   "outputs": [],
   "source": [
    "def extractInfoBoxTemplate(all_templates):\n",
    "    for tmpl, params in all_templates:\n",
    "        if tmpl == 'Infobox person':\n",
    "            InfoDict = params\n",
    "        elif tmpl == 'IMDb name':\n",
    "            print(params)\n",
    "        elif tmpl == 'Instagram':\n",
    "            print(params)\n",
    "\n",
    "    return InfoDict"
   ]
  },
  {
   "cell_type": "code",
   "execution_count": 95,
   "id": "ffb7f260-7f10-473b-a9f1-f5c982738005",
   "metadata": {},
   "outputs": [],
   "source": [
    "lstActorPerson = inFileReader() "
   ]
  },
  {
   "cell_type": "code",
   "execution_count": 96,
   "id": "36b2cad5-cbb9-444c-af70-3c967598f190",
   "metadata": {},
   "outputs": [],
   "source": [
    "def spouseInfo(spouse):\n",
    "    marriages = mwp.parse(spouse)\n",
    "    \n",
    "    spouseList = []\n",
    "    for tmplt in marriages.filter_templates():\n",
    "        if tmplt.name.matches(\"marriage\"):\n",
    "            # SpName  = tmplt.get(1).strip('<br>[]')\n",
    "            # YRStart = tmplt.get(2)\n",
    "            # YREnd   = tmplt.get(3)\n",
    "            # Status  = tmplt.get('end').value\n",
    "            spouseList.append(tmplt.params)\n",
    "    \n",
    "    # [('Edward Snelson', '1933', '1943', 'divorced'), ('Richard Ney', '1943', '1947', 'divorced'), ('Buddy Fogelson', '1949', '1987', 'died')]\n",
    "    return spouseList\n",
    "    "
   ]
  },
  {
   "cell_type": "code",
   "execution_count": 97,
   "id": "a8fed8fa-874d-4699-88f9-3f8e90466961",
   "metadata": {},
   "outputs": [],
   "source": [
    "def OccupationInfo(info):\n",
    "    occups = mwp.parse(info)\n",
    "    OccupList = []\n",
    "    for tmplt in occups.filter_templates():\n",
    "        param1  = tmplt.get(1)\n",
    "        OccupList.append(tmplt.params)\n",
    "    \n",
    "    return OccupList"
   ]
  },
  {
   "cell_type": "code",
   "execution_count": 98,
   "id": "68e9b88b-5496-4ce8-bad0-d7434bd6070a",
   "metadata": {},
   "outputs": [],
   "source": [
    "def birthDateInfo(bInfo):\n",
    "    bd_Tmplt = mwp.parse(bInfo)\n",
    "    for tmplt in bd_Tmplt.filter_templates():\n",
    "        if tmplt.get('mf',''):\n",
    "            print(f\"Getting **mf** Template => {tmplt.get('mf').value}\")\n",
    "            code = tmplt.remove('mf')\n",
    "        elif tmplt.get('df',''):\n",
    "            print(f\"Getting **df** Template => {tmplt.get('df').value}\")\n",
    "            code = tmplt.remove('df')\n",
    "        \n",
    "    print(f'Template => {tmplt}')\n",
    "    bdlst = tmplt.params\n",
    "    \n",
    "    birthDateLine = urTitle +s+ d['saal']+s+ str(bdlst[0])+s+ d['ke'] +s+ d['maah'] +s+ str(bdlst[1]) +s+ d['ki'] \n",
    "    birthDateLine += s+ str(bdlst[2])+s+d['tareekh'] +s+ d['ko']+s+d['paida']+s+d['howein'] + ds\n",
    "    \n",
    "    return birthDateLine"
   ]
  },
  {
   "cell_type": "code",
   "execution_count": 99,
   "id": "7f396114-684f-44fd-8eb7-8ff4f7be08f0",
   "metadata": {},
   "outputs": [],
   "source": [
    "def birthPlace(birthplace):\n",
    "    bpLn = urTitle +s+ d['ki']+s+ d['jaaye paidaish'] +s+ birthplace +s+ d['hai'] +ds\n",
    "    \n",
    "    return bpLn\n",
    "    "
   ]
  },
  {
   "cell_type": "code",
   "execution_count": 100,
   "id": "00ab6fae-1a44-4987-937d-ad83eb184d92",
   "metadata": {},
   "outputs": [],
   "source": [
    "def UrduInfoBox(info,dInfo):\n",
    "    infoBox = \"{{ Infobox person\"\n",
    "    infoClose = \"}}\"\n",
    "    \n",
    "    for key, val in info.items():\n",
    "        val = info.get(key, '')\n",
    "        if key == 'name':\n",
    "            print(key,\"=>\",val)\n",
    "            dInfo[key] = urTitle+s+d['aik']+s+d['actress']+s+d['hein']+ds\n",
    "            infoBox += nl + p + key + espc + val\n",
    "        elif key == 'birth_name':\n",
    "            dInfo[key] = d['un']+s+d['ka']+s+d['birth_name']+s+val+s+d['hai']+ds\n",
    "            infoBox += nl + p + key + espc + val\n",
    "        elif key == 'birth_date':\n",
    "            dInfo[key] = birthDateInfo(info['birth_date'])\n",
    "            infoBox += nl + p + key + espc + val\n",
    "        elif key == 'citizenship':\n",
    "            dInfo[key] = info[key]\n",
    "            infoBox += nl + p + key + espc + val\n",
    "        elif key == 'birth_place':\n",
    "            dInfo[key] = birthPlace(info[key])\n",
    "            infoBox += nl + p + key + espc + val\n",
    "        elif key == 'spouse':\n",
    "            dInfo[key] = spouseInfo(info[key])\n",
    "            infoBox += nl + p + key + espc + val\n",
    "        elif key == 'years active':\n",
    "            dInfo[key] = info[key]\n",
    "            infoBox += nl + p + key + espc + val\n",
    "        elif key == 'occupation':\n",
    "            dInfo[key] = OccupationInfo(info['occupation'])\n",
    "            infoBox += nl + p + key + espc + val\n",
    "\n",
    "    infoBox += infoClose\n",
    "\n",
    "    return infoBox, dInfo"
   ]
  },
  {
   "cell_type": "code",
   "execution_count": 101,
   "id": "a72234d9-dfcb-4f86-a85a-dc9fe92627d3",
   "metadata": {},
   "outputs": [],
   "source": [
    "def getURinfoBox(engTitle,dInfo):\n",
    "    # Get page based on title and language supplied as arguments\n",
    "    page = getWikiPage(\"en\", engTitle)\n",
    "\n",
    "    wikitext = page.get()\n",
    "    wikicode = mwp.parse(wikitext)\n",
    "\n",
    "    # Get all templates including Infobox template\n",
    "    all_templates = page.raw_extracted_templates\n",
    "\n",
    "    # Get just Infobox template as a dictionary\n",
    "    InfoDict = extractInfoBoxTemplate(all_templates)\n",
    "\n",
    "    # Get Infobox for Urdu Page with required params\n",
    "    urInfoBox, dictInfo = UrduInfoBox(InfoDict,dInfo)\n",
    "    \n",
    "    return urInfoBox, dictInfo"
   ]
  },
  {
   "cell_type": "code",
   "execution_count": null,
   "id": "56580b1c-2154-4795-8527-070882c78f36",
   "metadata": {},
   "outputs": [],
   "source": []
  },
  {
   "cell_type": "code",
   "execution_count": 102,
   "id": "e9ab55c8-22ce-45c5-be0e-55dcb2e10285",
   "metadata": {},
   "outputs": [],
   "source": [
    "def writeArticle(engTitle,urIB, dArticle):\n",
    "    wikiFileName = engTitle + '.txt'\n",
    "    outfile = BASE / 'Articles' / wikiFileName\n",
    "    \n",
    "    with open(outfile, 'w', encoding='utf-8') as ofile:\n",
    "        # Urdu InfoBox of Article\n",
    "        ofile.write(f'\\n{urIB}\\n\\n')\n",
    "\n",
    "        # Person Intro\n",
    "        personIntro = dArticle['name']\n",
    "        ofile.write(f'\\n {personIntro}')\n",
    "\n",
    "        # Birth_Name\n",
    "        if dArticle.get('birth_name'):\n",
    "            Birth_Name = dArticle['birth_name']\n",
    "            ofile.write(f'\\n {Birth_Name}')\n",
    "\n",
    "        # birth_date\n",
    "        if dArticle.get('birth_date'):\n",
    "            Birth_Date = dArticle['birth_date']\n",
    "            ofile.write(f'\\n {Birth_Date}')\n",
    "        \n",
    "        # birth_place\n",
    "        if dArticle.get('birth_place'):\n",
    "            Birth_Place = dArticle['birth_place']\n",
    "            ofile.write(f'\\n {Birth_Place}')\n",
    "        \n",
    "        # spouse\n",
    "        if dArticle.get('spouse'):\n",
    "            spouse = dArticle['spouse']\n",
    "            ofile.write(f'\\n ان کے شریک حیات رہے ہیں {spouse}')\n",
    "\n",
    "        # citizenship\n",
    "        if dArticle.get('citizenship'):\n",
    "            citizen = dArticle['citizenship']\n",
    "            ofile.write(f'\\n ان کی شہریت ملک {citizen} کی ہے')\n",
    "            \n",
    "        # citizenship\n",
    "        if dArticle.get('years active'):\n",
    "            yr_active = dArticle['years active']\n",
    "            ofile.write(f'\\n یہ اپنی پیشہ ورانہ زندگی میں {yr_active} تک متحرک رہیں۔')\n",
    "        \n",
    "        \n",
    "        "
   ]
  },
  {
   "cell_type": "code",
   "execution_count": 103,
   "id": "d23fa36e-62d8-4470-ab31-0040f6a1ff92",
   "metadata": {},
   "outputs": [],
   "source": [
    "en_ur_dict = enURTransliterate()"
   ]
  },
  {
   "cell_type": "code",
   "execution_count": 104,
   "id": "7e8f8bb6-f50f-4e30-a970-dc38ebeddd7c",
   "metadata": {},
   "outputs": [
    {
     "name": "stdout",
     "output_type": "stream",
     "text": [
      "OrderedDict([('id', '0733196'), ('name', 'Zuleikha Robinson')])\n",
      "name => Zuleikha Robinson\n",
      "Getting **df** Template => y\n",
      "Template => {{Birth date and age|1977|6|29}}\n",
      "Zuleikha Robinson article written \n",
      "OrderedDict([('1', '0000244')])\n",
      "name => Sigourney Weaver\n",
      "Getting **mf** Template => y\n",
      "Template => {{Birth date and age|1949|10|8}}\n",
      "Sigourney Weaver article written \n"
     ]
    }
   ],
   "source": [
    "PersonList = []\n",
    "for player in lstActorPerson:\n",
    "        dInfo = {}\n",
    "        engTitle = player.get('ENG')\n",
    "        urTitle  = player.get('URDU')\n",
    "        PersonList.append({\"EN\":engTitle,\"UR\":urTitle})\n",
    "        \n",
    "        urIB, articleInfoDict =  getURinfoBox(engTitle,dInfo)\n",
    "        #print(urIB)\n",
    "        #print(articleInfoDict)\n",
    "        \n",
    "        writeArticle(engTitle, urIB, articleInfoDict)\n",
    "        print(f'{engTitle} article written ')\n",
    "        "
   ]
  },
  {
   "cell_type": "code",
   "execution_count": null,
   "id": "edb0f700-71a0-4865-a3ca-f9e7a843ef4c",
   "metadata": {},
   "outputs": [],
   "source": []
  },
  {
   "cell_type": "code",
   "execution_count": null,
   "id": "e3937e6e-df9c-4755-8ca0-2ff644047c91",
   "metadata": {},
   "outputs": [],
   "source": []
  },
  {
   "cell_type": "code",
   "execution_count": null,
   "id": "eed03dfd-ba75-4ea6-9a2a-632e2d66ee4d",
   "metadata": {},
   "outputs": [],
   "source": [
    "\n"
   ]
  },
  {
   "cell_type": "code",
   "execution_count": null,
   "id": "d586af68-7ab0-4e45-9b4d-1a3e7af0d2a1",
   "metadata": {},
   "outputs": [],
   "source": []
  },
  {
   "cell_type": "code",
   "execution_count": null,
   "id": "f0e15db4-e948-421c-8c9e-f40e20827aa4",
   "metadata": {},
   "outputs": [],
   "source": []
  },
  {
   "cell_type": "code",
   "execution_count": null,
   "id": "2c120529-8677-4338-971e-62c6179c788c",
   "metadata": {},
   "outputs": [],
   "source": []
  },
  {
   "cell_type": "code",
   "execution_count": null,
   "id": "55c2be97-ce9d-41db-ab4f-4f0be97b0249",
   "metadata": {},
   "outputs": [],
   "source": []
  },
  {
   "cell_type": "code",
   "execution_count": null,
   "id": "7ea2e462-7ade-4a7f-82d5-fa789261d8e5",
   "metadata": {},
   "outputs": [],
   "source": []
  },
  {
   "cell_type": "code",
   "execution_count": null,
   "id": "2d0dcb95-00d5-4c02-9418-2e85d20a6e9a",
   "metadata": {},
   "outputs": [],
   "source": []
  }
 ],
 "metadata": {
  "kernelspec": {
   "display_name": "Python 3 (ipykernel)",
   "language": "python",
   "name": "python3"
  },
  "language_info": {
   "codemirror_mode": {
    "name": "ipython",
    "version": 3
   },
   "file_extension": ".py",
   "mimetype": "text/x-python",
   "name": "python",
   "nbconvert_exporter": "python",
   "pygments_lexer": "ipython3",
   "version": "3.8.12"
  }
 },
 "nbformat": 4,
 "nbformat_minor": 5
}
